{
 "cells": [
  {
   "cell_type": "code",
   "execution_count": 6,
   "metadata": {},
   "outputs": [
    {
     "name": "stdout",
     "output_type": "stream",
     "text": [
      "enter equatuinx=5.2+z*y\n",
      "id1 =5.2 +id2 *id3"
     ]
    }
   ],
   "source": [
    "\n",
    "mystr=input('enter equation')\n",
    "op_ref=['=','-','+','-','*','/','**']\n",
    "ide=[]\n",
    "ide2=[]\n",
    "st=[]\n",
    "operators=[]\n",
    "num=[]\n",
    "num2=[]\n",
    "x=''\n",
    "count=0\n",
    "flag=False\n",
    "#for checking if letter capital or small \n",
    "for i in range(len(mystr)):\n",
    "    if 65<=ord(mystr[i])<=90  or  97<=ord(mystr[i])<=123  :\n",
    "        count=count+1\n",
    "        st.append(mystr[i])\n",
    "        ide.append(mystr[i])\n",
    "        ide2.append('id'+str(count))\n",
    "        \n",
    "        print(f'id{str(count)}',end= '')\n",
    "        x=x+'id'+str(count)+' '\n",
    " #numbers\n",
    "    elif mystr[i].isdigit() or mystr[i]=='.':\n",
    "        st.append(mystr[i])\n",
    "        num.append(mystr[i])\n",
    "        if mystr[i]=='.':\n",
    "            flag=True\n",
    "        \n",
    "           \n",
    "        print(f'{mystr[i]}',end= '')\n",
    "        x=x+mystr[i]\n",
    "#operators    \n",
    "    elif mystr[i] in op_ref:\n",
    "        \n",
    "        operators.append(mystr[i])\n",
    "        print(f' {mystr[i]}',end = '')\n",
    "        x=x+mystr[i]+' '\n",
    "    \n"
   ]
  },
  {
   "cell_type": "code",
   "execution_count": null,
   "metadata": {},
   "outputs": [],
   "source": [
    "import re\n",
    "mystr2=input('Please enter an example of Numbers: ')\n",
    "if re.findall(r'[-+]?[0-9]+$', mystr2):\n",
    "    print(True)\n",
    "else:\n",
    "    print(False)\n",
    "mystr2=input('Please enter an example of Identifiers: ')\n",
    "if re.findall(r'^[a-zA-Z]+[_]|^[a-zA-Z]+', mystr2):\n",
    "    print(True)\n",
    "else:\n",
    "    print(False)\n",
    "\n",
    "mystr2=input('Please enter an example of Reserved Words: ')\n",
    "if re.findall(r'else$|until$|end$', mystr2):\n",
    "    print(True)\n",
    "else:\n",
    "    print(False) \n",
    "mystr2=input('Please enter an example of Special Symbols: ')\n",
    "if re.findall(r'[<|>]$|=<', mystr2):\n",
    "    print(True)\n",
    "else:\n",
    "    print(False)\n",
    "    \n",
    "mystr2=input('Please enter an example of Comments: ')\n",
    "if re.findall(r'%%[ A-Za-z0-9]+', mystr2):\n",
    "    print(True)\n",
    "else:\n",
    "    print(False)    "
   ]
  },
  {
   "cell_type": "code",
   "execution_count": 37,
   "metadata": {},
   "outputs": [],
   "source": [
    "x.strip()\n",
    "y=x[6:].split('+')\n",
    "z=y[1].split('*')\n",
    "g=[]\n",
    "g.append(y[0])\n",
    "g.append(z[0])\n",
    "g.append(z[1])\n",
    "for i in range(len(g)):\n",
    "    g[i].strip()\n",
    "\n",
    "new_num=num[0]+num[1]+num[2]\n",
    "new_num_Float=float(new_num)"
   ]
  },
  {
   "cell_type": "code",
   "execution_count": 8,
   "metadata": {},
   "outputs": [
    {
     "name": "stdout",
     "output_type": "stream",
     "text": [
      "   id1 \n",
      "    \\  \n",
      "       =    \n",
      "         \\    \n",
      "           +      \n",
      "         /   \\\n",
      "      5.2    *  \n",
      "            /    \\    \n",
      "           id2   id3 \n"
     ]
    }
   ],
   "source": [
    "def semantic():\n",
    "    print('  ','id1'  ,'\\n    \\\\  ' )\n",
    "    print('       =','   \\n         \\\\    \\n           +      \\n         /   \\\\')\n",
    "    print('     ',g[0],'','  *',' \\n            /    \\\\    \\n         ',g[1],g[2])\n",
    "semantic()"
   ]
  },
  {
   "cell_type": "code",
   "execution_count": null,
   "metadata": {},
   "outputs": [],
   "source": [
    "if flag==True:\n",
    "    try:\n",
    "        for i in g:\n",
    "            float(i)\n",
    "    except:\n",
    "         str(i)\n",
    "    print('      ','   id1'  ,'\\n            \\\\  ' )\n",
    "    print('             =','   \\n               \\\\    \\n                +      \\n               /    \\\\')\n",
    "    print('intToFloat(',g[0],')','  *',' \\n                   /    \\\\    \\n                 ',float(g[1]),\n",
    "          '   intToFloat(',g[2],')')\n",
    "\n",
    "else:\n",
    "    semantic()\n"
   ]
  },
  {
   "cell_type": "code",
   "execution_count": 47,
   "metadata": {},
   "outputs": [
    {
     "name": "stdout",
     "output_type": "stream",
     "text": [
      "T1=  intToFloat( id2 )\n",
      "T2=  intToFloat( id3 )\n",
      "T3=  T1  *  T2\n",
      "T4=  5.2 + T2\n",
      "id1 =  T4\n"
     ]
    }
   ],
   "source": [
    "#task 4\n",
    "def ICG():\n",
    "    if flag==True:\n",
    "        print('T1= ','intToFloat(',ide2[1] ,')')\n",
    "        print('T2= ','intToFloat(',ide2[2] ,')')\n",
    "        print('T3= ','T1 ','* ','T2')\n",
    "        print('T4= ',new_num_Float,'+','T2')\n",
    "        print(ide2[0],'= ','T4')\n",
    "    else:  \n",
    "        print('T1= ',ide2[1],'*',ide2[2])\n",
    "        print('T2= ',new_num_Float,'+','T1')\n",
    "        print(ide2[0],'= ','T2')\n",
    "ICG()        "
   ]
  },
  {
   "cell_type": "code",
   "execution_count": 49,
   "metadata": {},
   "outputs": [
    {
     "name": "stdout",
     "output_type": "stream",
     "text": [
      "T1=  # id2 * # id3\n",
      "id1 =  T1 + 5.2\n"
     ]
    }
   ],
   "source": [
    "def optimzer():\n",
    "    if flag==True:\n",
    "        print('T1= ','#',ide2[1],'*','#',ide2[2])\n",
    "        print(ide2[0],'= ','T1','+',new_num_Float)\n",
    "    else:\n",
    "        print('T1= ',ide2[1],'*',ide2[2])\n",
    "        print(ide2[0],'= ','T1','+',new_num_Float)\n",
    "optimzer()        "
   ]
  },
  {
   "cell_type": "code",
   "execution_count": 53,
   "metadata": {},
   "outputs": [
    {
     "name": "stdout",
     "output_type": "stream",
     "text": [
      "LDF R1 R1 id2\n",
      "MULF R1 R1 id3\n",
      "LDF R2 R1\n",
      "ADDF R2 R2 5.2\n",
      "STRF id1 R2\n"
     ]
    }
   ],
   "source": [
    "def CodeGenertor():\n",
    "    if flag==True:\n",
    "        print('LDF','R1','R1',ide2[1])\n",
    "        print('MULF','R1','R1',ide2[2])\n",
    "        print('LDF','R2','R1')\n",
    "        print('ADDF','R2','R2',new_num_Float)\n",
    "        print('STRF',ide2[0],'R2')\n",
    "    else:        \n",
    "        print('LD','R1','R1',ide2[1])\n",
    "        print('MUL','R1','R1',ide2[2])\n",
    "        print('LD','R2','R1')\n",
    "        print('ADD','R2','R2',new_num_Float)\n",
    "        print('STR',ide2[0],'R2')\n",
    "CodeGenertor()              "
   ]
  }
 ],
 "metadata": {
  "kernelspec": {
   "display_name": "Python 3",
   "language": "python",
   "name": "python3"
  },
  "language_info": {
   "codemirror_mode": {
    "name": "ipython",
    "version": 3
   },
   "file_extension": ".py",
   "mimetype": "text/x-python",
   "name": "python",
   "nbconvert_exporter": "python",
   "pygments_lexer": "ipython3",
   "version": "3.7.6"
  }
 },
 "nbformat": 4,
 "nbformat_minor": 4
}
